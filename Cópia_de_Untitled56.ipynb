{
  "nbformat": 4,
  "nbformat_minor": 0,
  "metadata": {
    "colab": {
      "provenance": [],
      "authorship_tag": "ABX9TyO+2/Xm8yw20ZGk9Ftyo5Wh",
      "include_colab_link": true
    },
    "kernelspec": {
      "name": "python3",
      "display_name": "Python 3"
    },
    "language_info": {
      "name": "python"
    }
  },
  "cells": [
    {
      "cell_type": "markdown",
      "metadata": {
        "id": "view-in-github",
        "colab_type": "text"
      },
      "source": [
        "<a href=\"https://colab.research.google.com/github/Coutinho2002/Coutinho2002/blob/main/C%C3%B3pia_de_Untitled56.ipynb\" target=\"_parent\"><img src=\"https://colab.research.google.com/assets/colab-badge.svg\" alt=\"Open In Colab\"/></a>"
      ]
    },
    {
      "cell_type": "code",
      "execution_count": null,
      "metadata": {
        "id": "GOWorVCCspPH"
      },
      "outputs": [],
      "source": [
        "n1 = int ( input ('Primeiro valor'))\n",
        "n2 = int ( input ( 'Segundo valor:'))\n",
        "opção = 0\n",
        "while opção != 5:\n",
        "    print('''[1] Somar\n",
        "    [2] Multiplicar\n",
        "    [3] Maior\n",
        "    [4] Novos números\n",
        "    [5] Sair do programa''')\n",
        "    opção = int (input ('Qual é a sua opção?'))\n",
        "    if opção == 1:\n",
        "        soma = n1 + n2\n",
        "        print ('A soma entre {} e {} é igual a {}'.format(n1, n2, soma))\n",
        "    elif opção == 2:\n",
        "        produto = n1 * n2\n",
        "        print ('O resultado de {} × {} é igual a {}'.format(n1, n2, produto))\n",
        "    elif opção == 3:\n",
        "        if n1 > n2:\n",
        "          maior = n1\n",
        "        else:\n",
        "            maior = n2\n",
        "        print ('Entre {} e {} o maior valor e {}'.format(n1, n2, maior))\n",
        "    elif opção == 4:\n",
        "        print ('Informe os números novamente')\n",
        "        n1 = int ( input ('Primeiro valor'))\n",
        "        n2 = int (input ('Segundo valor'))\n",
        "    elif opção == 5:\n",
        "        print ('Finalizando ...')"
      ]
    }
  ]
}