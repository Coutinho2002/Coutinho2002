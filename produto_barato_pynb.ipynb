{
  "nbformat": 4,
  "nbformat_minor": 0,
  "metadata": {
    "colab": {
      "provenance": [],
      "authorship_tag": "ABX9TyP93DAbXmmBGqFMZMOp+3iM",
      "include_colab_link": true
    },
    "kernelspec": {
      "name": "python3",
      "display_name": "Python 3"
    },
    "language_info": {
      "name": "python"
    }
  },
  "cells": [
    {
      "cell_type": "markdown",
      "metadata": {
        "id": "view-in-github",
        "colab_type": "text"
      },
      "source": [
        "<a href=\"https://colab.research.google.com/github/Coutinho2002/Coutinho2002/blob/main/produto_barato_pynb.ipynb\" target=\"_parent\"><img src=\"https://colab.research.google.com/assets/colab-badge.svg\" alt=\"Open In Colab\"/></a>"
      ]
    },
    {
      "cell_type": "code",
      "execution_count": null,
      "metadata": {
        "id": "kSFMd2CAveVz"
      },
      "outputs": [],
      "source": [
        "total = totmil = menor = count = 0\n",
        "barato = ''\n",
        "while True:\n",
        "    produto = str (input ('Nome do Produto:  '))\n",
        "    preço = float( input ('Preco: R$'))\n",
        "    cont += 1\n",
        "    total += preço\n",
        "    if preço > 1000:\n",
        "        totmil += 1\n",
        "    if cont == 1 or preço < menor:\n",
        "        menor = preço\n",
        "        barato = produto\n",
        "    resp = ''\n",
        "    while resp not in'SN':\n",
        "        resp = str ( input ('Quer continuar[S/N]  ')). strip (). upper () [0]\n",
        "    if resp == 'N':\n",
        "        break\n",
        "print ('O total da compra foi {total:.2f}')\n",
        "print ('Temos {totmil} produtos custando maís de R$1000.00')\n",
        "print ('O produto mais barato foi {barato} que custa R$ {menor}')"
      ]
    }
  ]
}